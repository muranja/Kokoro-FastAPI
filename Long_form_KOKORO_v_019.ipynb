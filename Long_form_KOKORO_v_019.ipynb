{
  "nbformat": 4,
  "nbformat_minor": 0,
  "metadata": {
    "colab": {
      "provenance": [],
      "toc_visible": true,
      "authorship_tag": "ABX9TyNT9UIAXHx3fPZSHaPXq1E2",
      "include_colab_link": true
    },
    "kernelspec": {
      "name": "python3",
      "display_name": "Python 3"
    },
    "language_info": {
      "name": "python"
    }
  },
  "cells": [
    {
      "cell_type": "markdown",
      "metadata": {
        "id": "view-in-github",
        "colab_type": "text"
      },
      "source": [
        "<a href=\"https://colab.research.google.com/github/muranja/Kokoro-FastAPI/blob/master/Long_form_KOKORO_v_019.ipynb\" target=\"_parent\"><img src=\"https://colab.research.google.com/assets/colab-badge.svg\" alt=\"Open In Colab\"/></a>"
      ]
    },
    {
      "cell_type": "code",
      "execution_count": null,
      "metadata": {
        "colab": {
          "base_uri": "https://localhost:8080/"
        },
        "id": "53qv8zCUBfwO",
        "outputId": "7cae5d79-38ba-4ec0-9a3b-be51e336bba0"
      },
      "outputs": [
        {
          "output_type": "stream",
          "name": "stdout",
          "text": [
            "WARNING: Defaulting repo_id to hexgrad/Kokoro-82M. Pass repo_id='hexgrad/Kokoro-82M' to suppress this warning.\n"
          ]
        },
        {
          "output_type": "stream",
          "name": "stderr",
          "text": [
            "/usr/local/lib/python3.11/dist-packages/torch/nn/modules/rnn.py:123: UserWarning: dropout option adds dropout after all but last recurrent layer, so non-zero dropout expects num_layers greater than 1, but got dropout=0.2 and num_layers=1\n",
            "  warnings.warn(\n",
            "/usr/local/lib/python3.11/dist-packages/torch/nn/utils/weight_norm.py:143: FutureWarning: `torch.nn.utils.weight_norm` is deprecated in favor of `torch.nn.utils.parametrizations.weight_norm`.\n",
            "  WeightNorm.apply(module, name, dim)\n",
            "/usr/local/lib/python3.11/dist-packages/torch/nn/utils/weight_norm.py:143: FutureWarning: `torch.nn.utils.weight_norm` is deprecated in favor of `torch.nn.utils.parametrizations.weight_norm`.\n",
            "  WeightNorm.apply(module, name, dim)\n",
            "/usr/local/lib/python3.11/dist-packages/torch/nn/utils/weight_norm.py:143: FutureWarning: `torch.nn.utils.weight_norm` is deprecated in favor of `torch.nn.utils.parametrizations.weight_norm`.\n",
            "  WeightNorm.apply(module, name, dim)\n"
          ]
        },
        {
          "output_type": "stream",
          "name": "stdout",
          "text": [
            "Generating audio chunks...\n"
          ]
        },
        {
          "output_type": "stream",
          "name": "stderr",
          "text": [
            "WARNING:phonemizer:words count mismatch on 100.0% of the lines (1/1)\n"
          ]
        },
        {
          "output_type": "stream",
          "name": "stdout",
          "text": [
            "Chunk 0: Generated 604200 samples\n",
            "Chunk 1: Generated 653400 samples\n"
          ]
        }
      ],
      "source": [
        "# @title Script {\"form-width\":\"50%\"}\n",
        "Text = \"Have you ever felt like no matter how hard you try, you just can’t seem to break free from the chains holding you back? Maybe it’s guilt over past mistakes, shame from wounds inflicted by others, or regret for opportunities you let slip through your fingers. It’s heavy—so heavy that sometimes it feels easier to carry the weight than to even attempt setting it down. But here’s the truth: Jesus doesn’t ask us to carry those burdens alone. He invites us to come to Him, lay them at His feet, and find rest for our weary souls.   Dear brothers and sisters in Christ, I want to remind you today that you are not defined by your past. You are not the sum of your mistakes, your failures, or the pain others have caused you. In Christ, you are a new creation. The old has gone, and the new has come (second Corinthians chapter 5 verse 17). God sees you not as you were but as you are becoming—His beloved child, washed clean by the blood of Jesus.  Life may throw challenges at you, but remember this: God is always working behind the scenes, even when you can’t see it. He is weaving everything together for your good, shaping you into the person He created you to be (Romans chapter 8 verse 28). Every trial, every tear, every moment of struggle has a purpose in His hands. You are not forgotten, overlooked, or abandoned. He is with you in the storm, walking beside you, guiding you step by step.  Let today be the day you choose to trust Him fully. Lay down the weights that have been holding you back. Let go of the guilt, the shame, and the fear. Trust that His grace is sufficient for you, and His power is made perfect in your weakness (2 Corinthians 12:9). You don’t have to have it all figured out to move forward. All you need is faith the size of a mustard seed to take the next step—and He will do the rest.  God’s Word says in Isaiah 41:10, “So do not fear, for I am with you; do not be dismayed, for I am your God. I will strengthen you and help you; I will uphold you with my righteous right hand.” Cling to that promise. Let it sink deep into your heart. No matter what you’re facing today, God is on your side. He is fighting for you, cheering you on, and reminding you that you are deeply loved.  Now, let’s bow our heads and pray.  Let’s pray.  Dear Lord Jesus, We come to You today because we know You are the One who forgives and sets us free. Life can be heavy sometimes—so heavy that it feels like we’re carrying weights we were never meant to bear. Some of those weights come from the choices we’ve made, while others are scars left by people or situations beyond our control. But no matter how deep the hurt or how big the mistake, we bring it all to You now, trusting that Your grace is greater than anything we could ever face.  Lord, there are days when guilt tries to take over. It whispers lies that we’re not good enough, that we’ve messed up too many times, or that we’ll never be able to make things right. Calm those voices, Lord. Remind us that You already paid the price for our sins on the cross. Help us accept Your forgiveness fully, without holding back or doubting Your love. Teach us how to release the burden of guilt and walk confidently in the freedom You’ve given us.  Sometimes, Lord, shame creeps in and makes us feel unworthy of love or acceptance. Maybe it’s because of something someone said to us, something they did to us, or even something we did to ourselves. Shame tries to convince us that we’ll always be defined by our past—that we’ll never truly be free. Break those chains, Lord. Speak words of worth and dignity into our hearts. Remind us that we are fearfully and wonderfully made, created in Your image, and loved more deeply than we could ever imagine. Fill us with Your Spirit so we can stand tall, knowing that we belong to You.  For those dealing with regret, Lord, we ask for Your peace. Regret can be such a painful companion—it replays moments in our minds, showing us what could have been if only we’d chosen differently. Help us see those moments through Your eyes, Lord. Remind us that You can redeem every situation, no matter how broken it seems. Show us how to learn from our mistakes without letting them define us. Give us the courage to move forward, trusting that You are still working everything out for our good.  When bitterness takes root in our hearts, Lord, help us uproot it quickly. Bitterness grows quietly at first, but before we know it, it spreads and poisons everything around us. Forgive us for holding onto grudges, for refusing to let go of offenses, or for allowing anger to consume us. Soften our hearts, Lord, and teach us how to forgive others the way You’ve forgiven us. Show us how to release the pain caused by others—not because they deserve it, but because we want to live free from the weight of bitterness.  Lord, we also lift up those struggling with self-forgiveness. It’s easy to extend grace to others but so hard to give it to ourselves. Help us understand that Your forgiveness isn’t based on our performance—it’s a gift freely given because of Your great love for us. Remind us that we don’t have to earn Your forgiveness or prove ourselves worthy of it. All we need to do is receive it with open hands and open hearts.  For those who feel trapped in cycles of sin or destructive behavior, Lord, we ask for breakthrough. Whether it’s addiction, anger, selfishness, or any other pattern that keeps pulling them back in, break those chains, Lord. Give them the strength to resist temptation and the wisdom to seek help when they need it. Surround them with accountability partners and mentors who can walk alongside them. Fill them with Your Spirit so they can live victoriously in Your name.  When life feels unfair, Lord, help us remember that You see everything. You know the struggles no one else sees—the silent tears, the hidden sacrifices, the quiet battles. Thank You for being our Comforter, our Advocate, and our Friend. Help us turn to You when we feel misunderstood or overlooked, knowing that You understand us completely.  Thank You, Jesus, for being with us in every season of life. When we feel weak, remind us that Your strength is limitless. When we feel lost, guide us back to Your path. When we feel alone, surround us with Your presence. You promised never to leave us or forsake us, and we hold onto that promise tightly.  Lord, we also thank You for the little moments of grace—the answered prayers we might overlook, the kindness shown by strangers, the unexpected blessings that brighten our days. Help us celebrate those gifts and use them to build our faith.  Sometimes, Lord, we try to hide parts of ourselves from You—the parts we’re ashamed of or embarrassed about. But deep down, we know that nothing is hidden from Your sight. Help us stop running and start surrendering. Teach us how to lay our whole selves before You, trusting that You will meet us with compassion and love. Remind us that there’s nothing we can do to make You love us less—and nothing we need to do to make You love us more.  For parents raising kids, Lord, we ask for extra patience and grace. Parenting is one of the hardest jobs in the world, and it’s easy to feel like we’re failing. Strengthen their marriages, if they’re married, and give single parents extra support. Protect their families from negative influences and guide their children toward Your truth.  For those serving others—whether in ministry, healthcare, education, or any other field—we lift them up to You. Their work is valuable, but it can also be draining. Renew their spirits, Lord. Fill them with fresh vision and passion for what You’ve called them to do. Protect them from burnout and remind them to take care of themselves too.  Lord, we also pray for those who struggle with forgiving themselves for hurting others. Maybe they said something cruel, acted out of selfishness, or failed to show up when someone needed them most. Remind them that while they can’t change the past, they can choose to move forward differently. Help them seek reconciliation where possible, and give them the courage to apologize and make amends. Show them how to lean on Your grace as they navigate the process of healing and restoration.  For those who feel abandoned or betrayed by people they trusted, Lord, we ask for Your comfort. Betrayal cuts deep, leaving scars that take time to heal. Wrap Your arms around them, Lord. Let them feel Your presence in a tangible way. Remind them that while people may fail them, You never will. Help them trust again—not necessarily in the same people, but in Your faithfulness to provide safe relationships and spaces for growth.  When bitterness or resentment threatens to take root, Lord, remind us of Your command to forgive others as You have forgiven us. Forgiveness doesn’t mean excusing harmful behavior or pretending it didn’t happen—it means releasing the hold that offense has on our hearts. Help us forgive others not out of obligation but out of obedience to You. Show us how to walk in freedom, unburdened by the weight of unforgiveness.  Lord, we also lift up those who are struggling to forgive God. Maybe they feel abandoned during a difficult season, disappointed by unanswered prayers, or confused by circumstances that seem unfair. Soften their hearts, Lord, and help them trust Your goodness even when they can’t see it clearly. Remind them that Your ways are higher than our ways, and Your plans are always for our ultimate good—even when we can’t understand them yet.  Finally, Lord, we declare forgiveness, freedom, and restoration in Jesus’ name. Let Your glory shine through every answered prayer, so others can see Your goodness and give You praise. Break every chain that holds us back, fill every void with Your Spirit, and make us whole again. We trust that You are able to do far more than we could ever ask or imagine.  Amen.   If this prayer touched your heart, please share it with someone who needs to hear about the forgiveness and freedom found in Jesus. At Daily Jesus Deliverance , we believe that no person is beyond His reach, and no situation is too hopeless for Him to transform. By liking, subscribing, and sharing this content, you help us spread hope, encouragement, and deliverance to more people who need it. Together, let’s create a community rooted in faith, love, and the unstoppable power of Jesus Christ. Thank you for being part of this mission!\" # @param {\"type\":\"string\",\"placeholder\":\"Enter Script Here\"}\n",
        "!pip install -q kokoro>=0.9.4 soundfile numpy\n",
        "!apt-get -qq -y install espeak-ng > /dev/null 2>&1\n",
        "\n",
        "from kokoro import KPipeline\n",
        "from IPython.display import display, Audio\n",
        "import soundfile as sf\n",
        "import torch\n",
        "import numpy as np\n",
        "\n",
        "pipeline = KPipeline(lang_code='a')\n",
        "text = Text\n",
        "\n",
        "# Generate audio and collect all chunks\n",
        "generator = pipeline(text, voice='af_heart')\n",
        "all_audio_chunks = []\n",
        "sample_rate = 24000\n",
        "\n",
        "print(\"Generating audio chunks...\")\n",
        "for i, (gs, ps, audio) in enumerate(generator):\n",
        "    print(f\"Chunk {i}: Generated {len(audio)} samples\")\n",
        "    all_audio_chunks.append(audio)\n",
        "\n",
        "    # Optional: Save individual chunks (if you still want them)\n",
        "    sf.write(f'chunk_{i}.wav', audio, sample_rate)\n",
        "\n",
        "# Concatenate all audio chunks into one extended audio file\n",
        "print(\"Concatenating audio chunks...\")\n",
        "if all_audio_chunks:\n",
        "    # Convert to numpy arrays if they aren't already\n",
        "    audio_arrays = [np.array(chunk) if not isinstance(chunk, np.ndarray) else chunk for chunk in all_audio_chunks]\n",
        "\n",
        "    # Concatenate all chunks\n",
        "    extended_audio = np.concatenate(audio_arrays)\n",
        "\n",
        "    # Save the extended audio file\n",
        "    sf.write('extended_prayer_audio.wav', extended_audio, sample_rate)\n",
        "\n",
        "    # Display the extended audio\n",
        "    print(f\"Extended audio created: {len(extended_audio)} samples ({len(extended_audio)/sample_rate:.2f} seconds)\")\n",
        "    display(Audio(data=extended_audio, rate=sample_rate, autoplay=True))\n",
        "\n",
        "    print(\"Extended audio saved as 'extended_prayer_audio.wav'\")\n",
        "else:\n",
        "    print(\"No audio chunks were generated!\")\n",
        "\n",
        "# Optional: Add silence between chunks for better flow\n",
        "def create_extended_audio_with_pauses(audio_chunks, sample_rate=24000, pause_duration=0.5):\n",
        "    \"\"\"\n",
        "    Create extended audio with small pauses between chunks\n",
        "    \"\"\"\n",
        "    pause_samples = int(pause_duration * sample_rate)\n",
        "    silence = np.zeros(pause_samples)\n",
        "\n",
        "    extended_with_pauses = []\n",
        "    for i, chunk in enumerate(audio_chunks):\n",
        "        chunk_array = np.array(chunk) if not isinstance(chunk, np.ndarray) else chunk\n",
        "        extended_with_pauses.append(chunk_array)\n",
        "\n",
        "        # Add pause between chunks (except after the last chunk)\n",
        "        if i < len(audio_chunks) - 1:\n",
        "            extended_with_pauses.append(silence)\n",
        "\n",
        "    return np.concatenate(extended_with_pauses)\n",
        "\n",
        "# Create version with pauses\n",
        "if all_audio_chunks:\n",
        "    extended_audio_with_pauses = create_extended_audio_with_pauses(all_audio_chunks, sample_rate, pause_duration=0.3)\n",
        "    sf.write('extended_prayer_audio_with_pauses.wav', extended_audio_with_pauses, sample_rate)\n",
        "    print(f\"Extended audio with pauses saved: {len(extended_audio_with_pauses)/sample_rate:.2f} seconds\")"
      ]
    }
  ]
}